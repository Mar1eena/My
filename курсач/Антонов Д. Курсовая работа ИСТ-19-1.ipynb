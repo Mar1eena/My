{
 "cells": [
  {
   "cell_type": "code",
   "execution_count": 1,
   "metadata": {},
   "outputs": [],
   "source": [
    "# Зависимости\n",
    "import pandas as pd\n",
    "import numpy as np\n",
    "import matplotlib.pyplot as plt\n",
    "import random\n",
    "import os\n",
    "\n",
    "from sklearn.model_selection import train_test_split\n",
    "from sklearn.preprocessing import MinMaxScaler\n",
    "from sklearn.compose import ColumnTransformer\n",
    "\n",
    "from matplotlib.colors import ListedColormap\n",
    "\n",
    "#классификация\n",
    "from sklearn.linear_model import LogisticRegression #логистическая регрессия\n",
    "from sklearn.neural_network import MLPClassifier #нейронка\n",
    "from sklearn.naive_bayes import GaussianNB #наивный байес\n",
    "from sklearn.neighbors import KNeighborsClassifier # k ближайших соседей\n",
    "\n",
    "#регрессия\n",
    "from sklearn.linear_model import LinearRegression #линейная регрессия\n",
    "from sklearn.svm import SVC #метод опорных векторов\n",
    "\n",
    "\n",
    "#Оценка качества в задачах классификации\n",
    "from sklearn.metrics import f1_score\n",
    "from sklearn.metrics import accuracy_score\n",
    "from sklearn.metrics import precision_score\n",
    "from sklearn.metrics import recall_score\n",
    "\n",
    "\n",
    "#Оценка качества в задачах регрессии\n",
    "from sklearn.metrics import mean_squared_error\n",
    "from sklearn.metrics import mean_absolute_error\n",
    "from sklearn.metrics import r2_score\n",
    "from sklearn.metrics import mean_absolute_percentage_error\n",
    "\n",
    "from sklearn import preprocessing"
   ]
  },
  {
   "cell_type": "code",
   "execution_count": 2,
   "metadata": {},
   "outputs": [],
   "source": [
    "#Задача: вычисление значения параметра code на основании остальных параметров.\n",
    "train_data = pd.read_csv(\"Набор_1_музеи_России.csv\",delimiter=';')#Меняем разделитель на ;\n"
   ]
  },
  {
   "cell_type": "code",
   "execution_count": 3,
   "metadata": {},
   "outputs": [],
   "source": [
    "#выбираем рандомное число\n",
    "my_code = \"АнтоновДмитрий\"\n",
    "seed_limit = 2 ** 32\n",
    "my_seed = int.from_bytes(my_code.encode(), \"little\") % seed_limit"
   ]
  },
  {
   "cell_type": "code",
   "execution_count": 4,
   "metadata": {},
   "outputs": [
    {
     "name": "stdout",
     "output_type": "stream",
     "text": [
      "114\n"
     ]
    }
   ],
   "source": [
    "# Определим размер валидационной выборки\n",
    "val_size = round(0.05*len(train_data))\n",
    "print(val_size)"
   ]
  },
  {
   "cell_type": "code",
   "execution_count": 5,
   "metadata": {},
   "outputs": [
    {
     "name": "stdout",
     "output_type": "stream",
     "text": [
      "2160 114\n"
     ]
    }
   ],
   "source": [
    "# Создадим обучающую и валидационную выборки\n",
    "random_state = my_seed\n",
    "train, val = train_test_split(train_data, \n",
    "                              test_size=val_size, \n",
    "                              random_state=random_state)\n",
    "print(len(train), len(val))"
   ]
  },
  {
   "cell_type": "code",
   "execution_count": 6,
   "metadata": {},
   "outputs": [
    {
     "name": "stdout",
     "output_type": "stream",
     "text": [
      "                                                   name  base_fond  \\\n",
      "773                        Угутский краеведческий музей       5837   \n",
      "444                 Воткинский музей истории и культуры      14730   \n",
      "1547  Музей истории и культурного наследия Агрызског...       4072   \n",
      "2103                     Порховский краеведческий музей        623   \n",
      "946                            Троицкий городской музей        583   \n",
      "...                                                 ...        ...   \n",
      "1013                Объед.мемориальный музей Ю.Гагарина      29246   \n",
      "1579            Музейно-литературный центр \"Дом поэтов\"         40   \n",
      "537     Музей истории села Елхово им.Халиуллы Ахметшина       9879   \n",
      "859   Азовский ист.-археологический и палеонтологиче...     225189   \n",
      "262                 Омский музей театрального искусства       8290   \n",
      "\n",
      "      science_fond     ams  n_buildings  n_days  guests  employees  \n",
      "773            606    6443            1     247     1.6         12  \n",
      "444           1610       0            1     300    23.0         13  \n",
      "1547           436       0            1     245     3.4          7  \n",
      "2103          4617       0            4     365    28.8         21  \n",
      "946           2433       0            1     247     6.1          7  \n",
      "...            ...     ...          ...     ...     ...        ...  \n",
      "1013         48022   23849           10     312    58.6        117  \n",
      "1579           242      40            1     247     1.7          2  \n",
      "537           3414     108            1     269    20.0          4  \n",
      "859         172466  297082           11     364   203.0        215  \n",
      "262           1386    1738            1     247    66.7          6  \n",
      "\n",
      "[2160 rows x 8 columns]\n"
     ]
    }
   ],
   "source": [
    "print(train)"
   ]
  },
  {
   "cell_type": "code",
   "execution_count": 7,
   "metadata": {},
   "outputs": [
    {
     "name": "stdout",
     "output_type": "stream",
     "text": [
      "                                                   name  base_fond  \\\n",
      "745             Ковдорский районный краеведческий музей       4078   \n",
      "2017                  Красногорский краеведческий музей        541   \n",
      "69             Бабушкинский районный исторический музей        769   \n",
      "970   Краеведческий музей \"Поморье\" Кемского муницип...       7620   \n",
      "483                       Акшинский краеведческий музей      11195   \n",
      "...                                                 ...        ...   \n",
      "44    Литературно-художественный музей М.И. и А.И.Цв...      14166   \n",
      "1163             Музей-заповедник \"Костромская слобода\"       2847   \n",
      "2052              Перевозский музейно-выставочный центр       2662   \n",
      "944                 Щелковский ист.-краеведческий музей      10528   \n",
      "232                          Музей-усадьба В.И.Сурикова        520   \n",
      "\n",
      "      science_fond   ams  n_buildings  n_days  guests  employees  \n",
      "745           2813     0            1     256    13.0         10  \n",
      "2017            20     0            1     247     5.3          1  \n",
      "69              37   769            1     259     2.8          4  \n",
      "970           2726     0            1     324     7.6         10  \n",
      "483           6166     0            2     270     4.1          8  \n",
      "...            ...   ...          ...     ...     ...        ...  \n",
      "44           24594     0            4     364     8.0         14  \n",
      "1163           648  2990           30     365   116.1         53  \n",
      "2052           554  3216            2     298     4.2          8  \n",
      "944           6373  3832            1     296    19.5         18  \n",
      "232            865   520            4     303    11.6         14  \n",
      "\n",
      "[114 rows x 8 columns]\n"
     ]
    }
   ],
   "source": [
    "print(val)"
   ]
  },
  {
   "cell_type": "code",
   "execution_count": 8,
   "metadata": {},
   "outputs": [
    {
     "data": {
      "text/plain": [
       "ColumnTransformer(remainder='passthrough',\n",
       "                  transformers=[('numerical', MinMaxScaler(),\n",
       "                                 ['base_fond', 'science_fond', 'ams',\n",
       "                                  'n_buildings', 'n_days', 'employees'])])"
      ]
     },
     "execution_count": 8,
     "metadata": {},
     "output_type": "execute_result"
    }
   ],
   "source": [
    "# Значения в числовых столбцах преобразуем к отрезку [0,1].\n",
    "# Для настройки скалировщика используем только обучающую выборку.\n",
    "name=['name']\n",
    "num_columns = ['base_fond','science_fond','ams','n_buildings','n_days','employees']\n",
    "ord_columns = ['guests']\n",
    "\n",
    "ct = ColumnTransformer(transformers=[('numerical', MinMaxScaler(), num_columns)], remainder='passthrough')\n",
    "\n",
    "ct.fit(train)"
   ]
  },
  {
   "cell_type": "code",
   "execution_count": 9,
   "metadata": {},
   "outputs": [
    {
     "data": {
      "text/html": [
       "<div>\n",
       "<style scoped>\n",
       "    .dataframe tbody tr th:only-of-type {\n",
       "        vertical-align: middle;\n",
       "    }\n",
       "\n",
       "    .dataframe tbody tr th {\n",
       "        vertical-align: top;\n",
       "    }\n",
       "\n",
       "    .dataframe thead th {\n",
       "        text-align: right;\n",
       "    }\n",
       "</style>\n",
       "<table border=\"1\" class=\"dataframe\">\n",
       "  <thead>\n",
       "    <tr style=\"text-align: right;\">\n",
       "      <th></th>\n",
       "      <th>base_fond</th>\n",
       "      <th>science_fond</th>\n",
       "      <th>ams</th>\n",
       "      <th>n_buildings</th>\n",
       "      <th>n_days</th>\n",
       "      <th>employees</th>\n",
       "      <th>name</th>\n",
       "      <th>guests</th>\n",
       "    </tr>\n",
       "  </thead>\n",
       "  <tbody>\n",
       "    <tr>\n",
       "      <th>0</th>\n",
       "      <td>0.001255</td>\n",
       "      <td>0.001511</td>\n",
       "      <td>0.00181</td>\n",
       "      <td>0.0</td>\n",
       "      <td>0.65407</td>\n",
       "      <td>0.004326</td>\n",
       "      <td>Угутский краеведческий музей</td>\n",
       "      <td>1.6</td>\n",
       "    </tr>\n",
       "    <tr>\n",
       "      <th>1</th>\n",
       "      <td>0.003168</td>\n",
       "      <td>0.004013</td>\n",
       "      <td>0.0</td>\n",
       "      <td>0.0</td>\n",
       "      <td>0.80814</td>\n",
       "      <td>0.004719</td>\n",
       "      <td>Воткинский музей истории и культуры</td>\n",
       "      <td>23.0</td>\n",
       "    </tr>\n",
       "    <tr>\n",
       "      <th>2</th>\n",
       "      <td>0.000875</td>\n",
       "      <td>0.001087</td>\n",
       "      <td>0.0</td>\n",
       "      <td>0.0</td>\n",
       "      <td>0.648256</td>\n",
       "      <td>0.002359</td>\n",
       "      <td>Музей истории и культурного наследия Агрызског...</td>\n",
       "      <td>3.4</td>\n",
       "    </tr>\n",
       "    <tr>\n",
       "      <th>3</th>\n",
       "      <td>0.000133</td>\n",
       "      <td>0.011509</td>\n",
       "      <td>0.0</td>\n",
       "      <td>0.012605</td>\n",
       "      <td>0.997093</td>\n",
       "      <td>0.007865</td>\n",
       "      <td>Порховский краеведческий музей</td>\n",
       "      <td>28.8</td>\n",
       "    </tr>\n",
       "    <tr>\n",
       "      <th>4</th>\n",
       "      <td>0.000125</td>\n",
       "      <td>0.006065</td>\n",
       "      <td>0.0</td>\n",
       "      <td>0.0</td>\n",
       "      <td>0.65407</td>\n",
       "      <td>0.002359</td>\n",
       "      <td>Троицкий городской музей</td>\n",
       "      <td>6.1</td>\n",
       "    </tr>\n",
       "    <tr>\n",
       "      <th>...</th>\n",
       "      <td>...</td>\n",
       "      <td>...</td>\n",
       "      <td>...</td>\n",
       "      <td>...</td>\n",
       "      <td>...</td>\n",
       "      <td>...</td>\n",
       "      <td>...</td>\n",
       "      <td>...</td>\n",
       "    </tr>\n",
       "    <tr>\n",
       "      <th>2155</th>\n",
       "      <td>0.006291</td>\n",
       "      <td>0.119704</td>\n",
       "      <td>0.006698</td>\n",
       "      <td>0.037815</td>\n",
       "      <td>0.843023</td>\n",
       "      <td>0.045615</td>\n",
       "      <td>Объед.мемориальный музей Ю.Гагарина</td>\n",
       "      <td>58.6</td>\n",
       "    </tr>\n",
       "    <tr>\n",
       "      <th>2156</th>\n",
       "      <td>0.000008</td>\n",
       "      <td>0.000603</td>\n",
       "      <td>0.000011</td>\n",
       "      <td>0.0</td>\n",
       "      <td>0.65407</td>\n",
       "      <td>0.000393</td>\n",
       "      <td>Музейно-литературный центр \"Дом поэтов\"</td>\n",
       "      <td>1.7</td>\n",
       "    </tr>\n",
       "    <tr>\n",
       "      <th>2157</th>\n",
       "      <td>0.002125</td>\n",
       "      <td>0.00851</td>\n",
       "      <td>0.00003</td>\n",
       "      <td>0.0</td>\n",
       "      <td>0.718023</td>\n",
       "      <td>0.00118</td>\n",
       "      <td>Музей истории села Елхово им.Халиуллы Ахметшина</td>\n",
       "      <td>20.0</td>\n",
       "    </tr>\n",
       "    <tr>\n",
       "      <th>2158</th>\n",
       "      <td>0.048448</td>\n",
       "      <td>0.429905</td>\n",
       "      <td>0.08344</td>\n",
       "      <td>0.042017</td>\n",
       "      <td>0.994186</td>\n",
       "      <td>0.084153</td>\n",
       "      <td>Азовский ист.-археологический и палеонтологиче...</td>\n",
       "      <td>203.0</td>\n",
       "    </tr>\n",
       "    <tr>\n",
       "      <th>2159</th>\n",
       "      <td>0.001783</td>\n",
       "      <td>0.003455</td>\n",
       "      <td>0.000488</td>\n",
       "      <td>0.0</td>\n",
       "      <td>0.65407</td>\n",
       "      <td>0.001966</td>\n",
       "      <td>Омский музей театрального искусства</td>\n",
       "      <td>66.7</td>\n",
       "    </tr>\n",
       "  </tbody>\n",
       "</table>\n",
       "<p>2160 rows × 8 columns</p>\n",
       "</div>"
      ],
      "text/plain": [
       "     base_fond science_fond       ams n_buildings    n_days employees  \\\n",
       "0     0.001255     0.001511   0.00181         0.0   0.65407  0.004326   \n",
       "1     0.003168     0.004013       0.0         0.0   0.80814  0.004719   \n",
       "2     0.000875     0.001087       0.0         0.0  0.648256  0.002359   \n",
       "3     0.000133     0.011509       0.0    0.012605  0.997093  0.007865   \n",
       "4     0.000125     0.006065       0.0         0.0   0.65407  0.002359   \n",
       "...        ...          ...       ...         ...       ...       ...   \n",
       "2155  0.006291     0.119704  0.006698    0.037815  0.843023  0.045615   \n",
       "2156  0.000008     0.000603  0.000011         0.0   0.65407  0.000393   \n",
       "2157  0.002125      0.00851   0.00003         0.0  0.718023   0.00118   \n",
       "2158  0.048448     0.429905   0.08344    0.042017  0.994186  0.084153   \n",
       "2159  0.001783     0.003455  0.000488         0.0   0.65407  0.001966   \n",
       "\n",
       "                                                   name guests  \n",
       "0                          Угутский краеведческий музей    1.6  \n",
       "1                   Воткинский музей истории и культуры   23.0  \n",
       "2     Музей истории и культурного наследия Агрызског...    3.4  \n",
       "3                        Порховский краеведческий музей   28.8  \n",
       "4                              Троицкий городской музей    6.1  \n",
       "...                                                 ...    ...  \n",
       "2155                Объед.мемориальный музей Ю.Гагарина   58.6  \n",
       "2156            Музейно-литературный центр \"Дом поэтов\"    1.7  \n",
       "2157    Музей истории села Елхово им.Халиуллы Ахметшина   20.0  \n",
       "2158  Азовский ист.-археологический и палеонтологиче...  203.0  \n",
       "2159                Омский музей театрального искусства   66.7  \n",
       "\n",
       "[2160 rows x 8 columns]"
      ]
     },
     "execution_count": 9,
     "metadata": {},
     "output_type": "execute_result"
    }
   ],
   "source": [
    "# Преобразуем значения, тип данных приводим к DataFrame\n",
    "sc_train = pd.DataFrame(ct.transform(train))\n",
    "sc_val = pd.DataFrame(ct.transform(val))\n",
    "\n",
    "# даем название столбцам\n",
    "column_names = num_columns +['name']+ ord_columns\n",
    "sc_train.columns = column_names\n",
    "sc_val.columns = column_names\n",
    "\n",
    "sc_train"
   ]
  },
  {
   "cell_type": "code",
   "execution_count": 10,
   "metadata": {},
   "outputs": [],
   "source": [
    "# В качестве входных параметров используем первые 9 числовых параметров,\n",
    "# в качестве выходного - десятый числовой параметр.\n",
    "x_train = sc_train[num_columns]\n",
    "x_val = sc_val[num_columns]\n",
    "\n",
    "y_train = (sc_train[ord_columns].values).flatten()\n",
    "y_val = (sc_val[ord_columns].values).flatten()"
   ]
  },
  {
   "cell_type": "code",
   "execution_count": 11,
   "metadata": {},
   "outputs": [],
   "source": [
    "y_train=np.array(y_train, dtype = np.int64)\n",
    "y_val=np.array(y_val, dtype = np.int64)"
   ]
  },
  {
   "cell_type": "code",
   "execution_count": 12,
   "metadata": {},
   "outputs": [],
   "source": [
    "#Создаем модели\n",
    "models = [GaussianNB(),\n",
    "              LogisticRegression(penalty='l2', tol=0, C=10, \n",
    "                                 solver='lbfgs', max_iter=10000)]"
   ]
  },
  {
   "cell_type": "code",
   "execution_count": 13,
   "metadata": {},
   "outputs": [
    {
     "name": "stdout",
     "output_type": "stream",
     "text": [
      "GaussianNB()\n",
      "LogisticRegression(C=10, max_iter=10000, tol=0)\n"
     ]
    }
   ],
   "source": [
    "#Обучаем модели\n",
    "for model in models:\n",
    "    print(model)\n",
    "    model.fit(x_train, y_train)"
   ]
  },
  {
   "cell_type": "code",
   "execution_count": 14,
   "metadata": {},
   "outputs": [
    {
     "name": "stdout",
     "output_type": "stream",
     "text": [
      "GaussianNB() \t 0.015090357472628942 \t f1\n",
      "GaussianNB() \t 0.03508771929824561 \t AccuracyScore\n",
      "GaussianNB() \t 0.4226415915719821 \t PrecisionScore\n",
      "GaussianNB() \t 0.03508771929824561 \t RecallScore\n",
      "LogisticRegression(C=10, max_iter=10000, tol=0) \t 0.011895836457239968 \t f1\n",
      "LogisticRegression(C=10, max_iter=10000, tol=0) \t 0.043859649122807015 \t AccuracyScore\n",
      "LogisticRegression(C=10, max_iter=10000, tol=0) \t 0.5782593739250086 \t PrecisionScore\n",
      "LogisticRegression(C=10, max_iter=10000, tol=0) \t 0.043859649122807015 \t RecallScore\n"
     ]
    }
   ],
   "source": [
    "# Оценииваем качество работы моделей на валидационной выборке.\n",
    "f1s = []\n",
    "AccuracyScore = []\n",
    "PrecisionScore = []\n",
    "RecallScore = []\n",
    "\n",
    "for model in models:\n",
    "    val_pred = model.predict(x_val)\n",
    "    f1 = f1_score(y_val, val_pred, average='weighted')\n",
    "    AS = accuracy_score(y_val, val_pred)\n",
    "    ps = precision_score(y_val, val_pred, average='weighted',zero_division = 1)\n",
    "    rs = recall_score(y_val, val_pred, average='weighted',zero_division = 1)\n",
    "    \n",
    "    f1s.append(f1)\n",
    "    AccuracyScore.append(AS)\n",
    "    PrecisionScore.append(ps)\n",
    "    RecallScore.append(rs)\n",
    "    print(model, '\\t', f1,'\\t','f1')\n",
    "    print(model, '\\t', AS,'\\t','AccuracyScore')\n",
    "    print(model, '\\t', ps,'\\t','PrecisionScore')\n",
    "    print(model, '\\t', rs,'\\t','RecallScore')"
   ]
  },
  {
   "cell_type": "code",
   "execution_count": 15,
   "metadata": {},
   "outputs": [
    {
     "name": "stdout",
     "output_type": "stream",
     "text": [
      "GaussianNB() \t f1\n"
     ]
    }
   ],
   "source": [
    "#выбираем лучшую модель\n",
    "i_max = f1s.index(max(f1s))\n",
    "best_c_model = models[i_max]\n",
    "print(best_c_model,'\\t','f1')\n"
   ]
  },
  {
   "cell_type": "code",
   "execution_count": 16,
   "metadata": {},
   "outputs": [
    {
     "name": "stdout",
     "output_type": "stream",
     "text": [
      "LogisticRegression(C=10, max_iter=10000, tol=0) \t AccuracyScore\n"
     ]
    }
   ],
   "source": [
    "i_max = AccuracyScore.index(max(AccuracyScore))\n",
    "best_c_model = models[i_max]\n",
    "print(best_c_model,'\\t','AccuracyScore')"
   ]
  },
  {
   "cell_type": "code",
   "execution_count": 17,
   "metadata": {},
   "outputs": [
    {
     "name": "stdout",
     "output_type": "stream",
     "text": [
      "LogisticRegression(C=10, max_iter=10000, tol=0) \t PrecisionScore\n"
     ]
    }
   ],
   "source": [
    "i_max = PrecisionScore.index(max(PrecisionScore))\n",
    "best_c_model = models[i_max]\n",
    "print(best_c_model,'\\t','PrecisionScore')"
   ]
  },
  {
   "cell_type": "code",
   "execution_count": 18,
   "metadata": {},
   "outputs": [
    {
     "name": "stdout",
     "output_type": "stream",
     "text": [
      "LogisticRegression(C=10, max_iter=10000, tol=0) \t RecallScore\n"
     ]
    }
   ],
   "source": [
    "i_max = RecallScore.index(max(RecallScore))\n",
    "best_c_model = models[i_max]\n",
    "print(best_c_model,'\\t','RecallScore')"
   ]
  },
  {
   "cell_type": "code",
   "execution_count": null,
   "metadata": {},
   "outputs": [],
   "source": []
  },
  {
   "cell_type": "code",
   "execution_count": null,
   "metadata": {},
   "outputs": [],
   "source": []
  }
 ],
 "metadata": {
  "kernelspec": {
   "display_name": "Python 3 (ipykernel)",
   "language": "python",
   "name": "python3"
  },
  "language_info": {
   "codemirror_mode": {
    "name": "ipython",
    "version": 3
   },
   "file_extension": ".py",
   "mimetype": "text/x-python",
   "name": "python",
   "nbconvert_exporter": "python",
   "pygments_lexer": "ipython3",
   "version": "3.7.12"
  }
 },
 "nbformat": 4,
 "nbformat_minor": 4
}
