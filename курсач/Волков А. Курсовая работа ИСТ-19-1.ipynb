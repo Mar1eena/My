{
 "cells": [
  {
   "cell_type": "code",
   "execution_count": 3,
   "metadata": {},
   "outputs": [],
   "source": [
    "# Зависимости\n",
    "import pandas as pd\n",
    "import numpy as np\n",
    "import matplotlib.pyplot as plt\n",
    "import random\n",
    "import os\n",
    "\n",
    "from sklearn.model_selection import train_test_split\n",
    "from sklearn.preprocessing import MinMaxScaler\n",
    "from sklearn.compose import ColumnTransformer\n",
    "\n",
    "from matplotlib.colors import ListedColormap\n",
    "\n",
    "#классификация\n",
    "from sklearn.linear_model import LogisticRegression #логистическая регрессия\n",
    "from sklearn.neural_network import MLPClassifier #нейронка\n",
    "from sklearn.naive_bayes import GaussianNB #наивный байес\n",
    "from sklearn.neighbors import KNeighborsClassifier # k ближайших соседей\n",
    "\n",
    "#регрессия\n",
    "from sklearn.linear_model import LinearRegression #линейная регрессия\n",
    "from sklearn.svm import SVC #метод опорных векторов\n",
    "from sklearn.metrics import mean_squared_error\n",
    "\n",
    "\n",
    "#Оценка качества в задачах классификации\n",
    "from sklearn.metrics import f1_score\n",
    "from sklearn.metrics import accuracy_score\n",
    "from sklearn.metrics import precision_score\n",
    "from sklearn.metrics import recall_score\n",
    "\n",
    "\n",
    "#Оценка качества в задачах регрессии\n",
    "from sklearn.metrics import mean_squared_error\n",
    "from sklearn.metrics import mean_absolute_error\n",
    "from sklearn.metrics import r2_score\n",
    "from sklearn.metrics import mean_absolute_percentage_error\n",
    "\n",
    "from sklearn import preprocessing\n",
    "\n",
    "#import tensorflow as tf\n",
    "#from keras.models import Sequential\n",
    "#from keras.layers import Dense, Dropout"
   ]
  },
  {
   "cell_type": "code",
   "execution_count": 4,
   "metadata": {},
   "outputs": [],
   "source": [
    "#Задача: вычисление значения параметра code на основании остальных параметров.\n",
    "train_data = pd.read_csv(\"Набор_2_цены_квартир.csv\",delimiter=';')#Меняем разделитель на ;\n"
   ]
  },
  {
   "cell_type": "code",
   "execution_count": 5,
   "metadata": {},
   "outputs": [],
   "source": [
    "#выбираем рандомное число\n",
    "my_code = \"ВолковАнтон\"\n",
    "seed_limit = 2 ** 32\n",
    "my_seed = int.from_bytes(my_code.encode(), \"little\") % seed_limit"
   ]
  },
  {
   "cell_type": "code",
   "execution_count": 6,
   "metadata": {},
   "outputs": [
    {
     "name": "stdout",
     "output_type": "stream",
     "text": [
      "408\n"
     ]
    }
   ],
   "source": [
    "# Определим размер валидационной выборки\n",
    "val_size = round(0.2*len(train_data))\n",
    "print(val_size)"
   ]
  },
  {
   "cell_type": "code",
   "execution_count": 7,
   "metadata": {},
   "outputs": [
    {
     "name": "stdout",
     "output_type": "stream",
     "text": [
      "1632 408\n"
     ]
    }
   ],
   "source": [
    "# Создадим обучающую и валидационную выборки\n",
    "random_state = my_seed\n",
    "train, val = train_test_split(train_data, \n",
    "                              test_size=val_size, \n",
    "                              random_state=random_state)\n",
    "print(len(train), len(val))"
   ]
  },
  {
   "cell_type": "code",
   "execution_count": 8,
   "metadata": {},
   "outputs": [
    {
     "name": "stdout",
     "output_type": "stream",
     "text": [
      "      price  totsp  livesp  kitsp  dist  metrdist  walk  brick  floor  code\n",
      "815      94     65      45    7.0  17.0        10     1      0      0     2\n",
      "1001     82     60      41    6.0  11.5         5     1      1      1     6\n",
      "367     165     79      53    9.0   8.0        15     1      1      1     1\n",
      "1285    131     78      46   10.0  17.0         5     1      0      1     2\n",
      "1678    110     60      44    6.0   7.0         5     0      0      1     4\n",
      "...     ...    ...     ...    ...   ...       ...   ...    ...    ...   ...\n",
      "401      92     68      53    6.0  13.0        10     0      0      1     5\n",
      "1957    102     58      38    6.0  15.5         8     1      0      1     1\n",
      "516      80     52      34    6.0  17.0        10     1      0      0     4\n",
      "1705    115     68      43    9.0   6.5         5     1      0      1     2\n",
      "564      85     65      43    5.0   7.5         5     1      1      1     8\n",
      "\n",
      "[1632 rows x 10 columns]\n"
     ]
    }
   ],
   "source": [
    "print(train)"
   ]
  },
  {
   "cell_type": "code",
   "execution_count": 9,
   "metadata": {},
   "outputs": [
    {
     "name": "stdout",
     "output_type": "stream",
     "text": [
      "      price  totsp  livesp  kitsp  dist  metrdist  walk  brick  floor  code\n",
      "1861     82     60      45    6.0  13.5        10     0      0      1     6\n",
      "464     120     74      45   10.0  13.0        15     1      0      1     5\n",
      "245     225    101      65   15.0  10.5        20     1      1      1     3\n",
      "772     110     65      45    7.0  13.5         7     1      0      1     1\n",
      "1238    142     77      44   10.0   7.0        10     0      0      1     4\n",
      "...     ...    ...     ...    ...   ...       ...   ...    ...    ...   ...\n",
      "686     115     76      54    9.0  13.0         5     1      0      0     5\n",
      "1008    138     79      47   10.0   7.0        10     0      0      1     4\n",
      "128     149     78      48   13.0   4.5         5     1      1      1     8\n",
      "147     145     78      50   10.0  12.0         3     1      0      1     5\n",
      "1295     70     58      41    6.0  14.5        10     0      1      1     3\n",
      "\n",
      "[408 rows x 10 columns]\n"
     ]
    }
   ],
   "source": [
    "print(val)"
   ]
  },
  {
   "cell_type": "code",
   "execution_count": 10,
   "metadata": {},
   "outputs": [
    {
     "data": {
      "text/plain": [
       "ColumnTransformer(remainder='passthrough',\n",
       "                  transformers=[('numerical', MinMaxScaler(),\n",
       "                                 ['price', 'totsp', 'livesp', 'kitsp', 'dist',\n",
       "                                  'metrdist', 'walk', 'brick', 'floor'])])"
      ]
     },
     "execution_count": 8,
     "metadata": {},
     "output_type": "execute_result"
    }
   ],
   "source": [
    "# Значения в числовых столбцах преобразуем к отрезку [0,1].\n",
    "# Для настройки скалировщика используем только обучающую выборку.\n",
    "num_columns = ['price','totsp','livesp','kitsp','dist','metrdist','walk','brick','floor']\n",
    "ord_columns = ['code']\n",
    "\n",
    "ct = ColumnTransformer(transformers=[('numerical', MinMaxScaler(), num_columns)], remainder='passthrough')\n",
    "\n",
    "ct.fit(train)"
   ]
  },
  {
   "cell_type": "code",
   "execution_count": 11,
   "metadata": {},
   "outputs": [
    {
     "data": {
      "text/html": [
       "<div>\n",
       "<style scoped>\n",
       "    .dataframe tbody tr th:only-of-type {\n",
       "        vertical-align: middle;\n",
       "    }\n",
       "\n",
       "    .dataframe tbody tr th {\n",
       "        vertical-align: top;\n",
       "    }\n",
       "\n",
       "    .dataframe thead th {\n",
       "        text-align: right;\n",
       "    }\n",
       "</style>\n",
       "<table border=\"1\" class=\"dataframe\">\n",
       "  <thead>\n",
       "    <tr style=\"text-align: right;\">\n",
       "      <th></th>\n",
       "      <th>price</th>\n",
       "      <th>totsp</th>\n",
       "      <th>livesp</th>\n",
       "      <th>kitsp</th>\n",
       "      <th>dist</th>\n",
       "      <th>metrdist</th>\n",
       "      <th>walk</th>\n",
       "      <th>brick</th>\n",
       "      <th>floor</th>\n",
       "      <th>code</th>\n",
       "    </tr>\n",
       "  </thead>\n",
       "  <tbody>\n",
       "    <tr>\n",
       "      <th>0</th>\n",
       "      <td>0.064706</td>\n",
       "      <td>0.184211</td>\n",
       "      <td>0.229730</td>\n",
       "      <td>0.10</td>\n",
       "      <td>1.000000</td>\n",
       "      <td>0.473684</td>\n",
       "      <td>1.0</td>\n",
       "      <td>0.0</td>\n",
       "      <td>0.0</td>\n",
       "      <td>2.0</td>\n",
       "    </tr>\n",
       "    <tr>\n",
       "      <th>1</th>\n",
       "      <td>0.047059</td>\n",
       "      <td>0.140351</td>\n",
       "      <td>0.175676</td>\n",
       "      <td>0.05</td>\n",
       "      <td>0.607143</td>\n",
       "      <td>0.210526</td>\n",
       "      <td>1.0</td>\n",
       "      <td>1.0</td>\n",
       "      <td>1.0</td>\n",
       "      <td>6.0</td>\n",
       "    </tr>\n",
       "    <tr>\n",
       "      <th>2</th>\n",
       "      <td>0.169118</td>\n",
       "      <td>0.307018</td>\n",
       "      <td>0.337838</td>\n",
       "      <td>0.20</td>\n",
       "      <td>0.357143</td>\n",
       "      <td>0.736842</td>\n",
       "      <td>1.0</td>\n",
       "      <td>1.0</td>\n",
       "      <td>1.0</td>\n",
       "      <td>1.0</td>\n",
       "    </tr>\n",
       "    <tr>\n",
       "      <th>3</th>\n",
       "      <td>0.119118</td>\n",
       "      <td>0.298246</td>\n",
       "      <td>0.243243</td>\n",
       "      <td>0.25</td>\n",
       "      <td>1.000000</td>\n",
       "      <td>0.210526</td>\n",
       "      <td>1.0</td>\n",
       "      <td>0.0</td>\n",
       "      <td>1.0</td>\n",
       "      <td>2.0</td>\n",
       "    </tr>\n",
       "    <tr>\n",
       "      <th>4</th>\n",
       "      <td>0.088235</td>\n",
       "      <td>0.140351</td>\n",
       "      <td>0.216216</td>\n",
       "      <td>0.05</td>\n",
       "      <td>0.285714</td>\n",
       "      <td>0.210526</td>\n",
       "      <td>0.0</td>\n",
       "      <td>0.0</td>\n",
       "      <td>1.0</td>\n",
       "      <td>4.0</td>\n",
       "    </tr>\n",
       "    <tr>\n",
       "      <th>...</th>\n",
       "      <td>...</td>\n",
       "      <td>...</td>\n",
       "      <td>...</td>\n",
       "      <td>...</td>\n",
       "      <td>...</td>\n",
       "      <td>...</td>\n",
       "      <td>...</td>\n",
       "      <td>...</td>\n",
       "      <td>...</td>\n",
       "      <td>...</td>\n",
       "    </tr>\n",
       "    <tr>\n",
       "      <th>1627</th>\n",
       "      <td>0.061765</td>\n",
       "      <td>0.210526</td>\n",
       "      <td>0.337838</td>\n",
       "      <td>0.05</td>\n",
       "      <td>0.714286</td>\n",
       "      <td>0.473684</td>\n",
       "      <td>0.0</td>\n",
       "      <td>0.0</td>\n",
       "      <td>1.0</td>\n",
       "      <td>5.0</td>\n",
       "    </tr>\n",
       "    <tr>\n",
       "      <th>1628</th>\n",
       "      <td>0.076471</td>\n",
       "      <td>0.122807</td>\n",
       "      <td>0.135135</td>\n",
       "      <td>0.05</td>\n",
       "      <td>0.892857</td>\n",
       "      <td>0.368421</td>\n",
       "      <td>1.0</td>\n",
       "      <td>0.0</td>\n",
       "      <td>1.0</td>\n",
       "      <td>1.0</td>\n",
       "    </tr>\n",
       "    <tr>\n",
       "      <th>1629</th>\n",
       "      <td>0.044118</td>\n",
       "      <td>0.070175</td>\n",
       "      <td>0.081081</td>\n",
       "      <td>0.05</td>\n",
       "      <td>1.000000</td>\n",
       "      <td>0.473684</td>\n",
       "      <td>1.0</td>\n",
       "      <td>0.0</td>\n",
       "      <td>0.0</td>\n",
       "      <td>4.0</td>\n",
       "    </tr>\n",
       "    <tr>\n",
       "      <th>1630</th>\n",
       "      <td>0.095588</td>\n",
       "      <td>0.210526</td>\n",
       "      <td>0.202703</td>\n",
       "      <td>0.20</td>\n",
       "      <td>0.250000</td>\n",
       "      <td>0.210526</td>\n",
       "      <td>1.0</td>\n",
       "      <td>0.0</td>\n",
       "      <td>1.0</td>\n",
       "      <td>2.0</td>\n",
       "    </tr>\n",
       "    <tr>\n",
       "      <th>1631</th>\n",
       "      <td>0.051471</td>\n",
       "      <td>0.184211</td>\n",
       "      <td>0.202703</td>\n",
       "      <td>0.00</td>\n",
       "      <td>0.321429</td>\n",
       "      <td>0.210526</td>\n",
       "      <td>1.0</td>\n",
       "      <td>1.0</td>\n",
       "      <td>1.0</td>\n",
       "      <td>8.0</td>\n",
       "    </tr>\n",
       "  </tbody>\n",
       "</table>\n",
       "<p>1632 rows × 10 columns</p>\n",
       "</div>"
      ],
      "text/plain": [
       "         price     totsp    livesp  kitsp      dist  metrdist  walk  brick  \\\n",
       "0     0.064706  0.184211  0.229730   0.10  1.000000  0.473684   1.0    0.0   \n",
       "1     0.047059  0.140351  0.175676   0.05  0.607143  0.210526   1.0    1.0   \n",
       "2     0.169118  0.307018  0.337838   0.20  0.357143  0.736842   1.0    1.0   \n",
       "3     0.119118  0.298246  0.243243   0.25  1.000000  0.210526   1.0    0.0   \n",
       "4     0.088235  0.140351  0.216216   0.05  0.285714  0.210526   0.0    0.0   \n",
       "...        ...       ...       ...    ...       ...       ...   ...    ...   \n",
       "1627  0.061765  0.210526  0.337838   0.05  0.714286  0.473684   0.0    0.0   \n",
       "1628  0.076471  0.122807  0.135135   0.05  0.892857  0.368421   1.0    0.0   \n",
       "1629  0.044118  0.070175  0.081081   0.05  1.000000  0.473684   1.0    0.0   \n",
       "1630  0.095588  0.210526  0.202703   0.20  0.250000  0.210526   1.0    0.0   \n",
       "1631  0.051471  0.184211  0.202703   0.00  0.321429  0.210526   1.0    1.0   \n",
       "\n",
       "      floor  code  \n",
       "0       0.0   2.0  \n",
       "1       1.0   6.0  \n",
       "2       1.0   1.0  \n",
       "3       1.0   2.0  \n",
       "4       1.0   4.0  \n",
       "...     ...   ...  \n",
       "1627    1.0   5.0  \n",
       "1628    1.0   1.0  \n",
       "1629    0.0   4.0  \n",
       "1630    1.0   2.0  \n",
       "1631    1.0   8.0  \n",
       "\n",
       "[1632 rows x 10 columns]"
      ]
     },
     "execution_count": 9,
     "metadata": {},
     "output_type": "execute_result"
    }
   ],
   "source": [
    "# Преобразуем значения, тип данных приводим к DataFrame\n",
    "sc_train = pd.DataFrame(ct.transform(train))\n",
    "sc_val = pd.DataFrame(ct.transform(val))\n",
    "\n",
    "# даем название столбцам\n",
    "column_names = num_columns + ord_columns\n",
    "sc_train.columns = column_names\n",
    "sc_val.columns = column_names\n",
    "\n",
    "sc_train"
   ]
  },
  {
   "cell_type": "code",
   "execution_count": 12,
   "metadata": {},
   "outputs": [],
   "source": [
    "# В качестве входных параметров используем первые 9 числовых параметров,\n",
    "# в качестве выходного - десятый числовой параметр.\n",
    "x_train = sc_train[num_columns]\n",
    "x_val = sc_val[num_columns]\n",
    "\n",
    "y_train = (sc_train[ord_columns].values).flatten()\n",
    "y_val = (sc_val[ord_columns].values).flatten()"
   ]
  },
  {
   "cell_type": "code",
   "execution_count": 13,
   "metadata": {},
   "outputs": [
    {
     "data": {
      "text/plain": [
       "array([2., 6., 1., ..., 4., 2., 8.])"
      ]
     },
     "execution_count": 11,
     "metadata": {},
     "output_type": "execute_result"
    }
   ],
   "source": [
    "y_train"
   ]
  },
  {
   "cell_type": "code",
   "execution_count": 15,
   "metadata": {},
   "outputs": [],
   "source": [
    "#Создаем модели\n",
    "models = [MLPClassifier(),\n",
    "              SVC()]"
   ]
  },
  {
   "cell_type": "code",
   "execution_count": 16,
   "metadata": {},
   "outputs": [
    {
     "name": "stdout",
     "output_type": "stream",
     "text": [
      "MLPClassifier()\n",
      "SVC()\n"
     ]
    },
    {
     "name": "stderr",
     "output_type": "stream",
     "text": [
      "/srv/conda/envs/notebook/lib/python3.7/site-packages/sklearn/neural_network/_multilayer_perceptron.py:696: ConvergenceWarning: Stochastic Optimizer: Maximum iterations (200) reached and the optimization hasn't converged yet.\n",
      "  ConvergenceWarning,\n"
     ]
    }
   ],
   "source": [
    "#Обучаем модели\n",
    "for model in models:\n",
    "    print(model)\n",
    "    model.fit(x_train, y_train)"
   ]
  },
  {
   "cell_type": "code",
   "execution_count": 15,
   "metadata": {},
   "outputs": [
    {
     "name": "stdout",
     "output_type": "stream",
     "text": [
      "MLPClassifier() \t 0.3554908020784704 \t f1\n",
      "MLPClassifier() \t 0.38480392156862747 \t AccuracyScore\n",
      "MLPClassifier() \t 0.36653825301996834 \t PrecisionScore\n",
      "MLPClassifier() \t 0.38480392156862747 \t RecallScore\n",
      "SVC() \t 0.3464719654221578 \t f1\n",
      "SVC() \t 0.38480392156862747 \t AccuracyScore\n",
      "SVC() \t 0.3754677441353255 \t PrecisionScore\n",
      "SVC() \t 0.38480392156862747 \t RecallScore\n"
     ]
    }
   ],
   "source": [
    "# Оценииваем качество работы моделей на валидационной выборке.\n",
    "f1s = []\n",
    "AccuracyScore = []\n",
    "PrecisionScore = []\n",
    "RecallScore = []\n",
    "\n",
    "for model in models:\n",
    "    val_pred = model.predict(x_val)\n",
    "    f1 = f1_score(y_val, val_pred, average='weighted')\n",
    "    AS = accuracy_score(y_val, val_pred)\n",
    "    ps = precision_score(y_val, val_pred, average='weighted',zero_division = 1)\n",
    "    rs = recall_score(y_val, val_pred, average='weighted',zero_division = 1)\n",
    "    \n",
    "    f1s.append(f1)\n",
    "    AccuracyScore.append(AS)\n",
    "    PrecisionScore.append(ps)\n",
    "    RecallScore.append(rs)\n",
    "    print(model, '\\t', f1,'\\t','f1')\n",
    "    print(model, '\\t', AS,'\\t','AccuracyScore')\n",
    "    print(model, '\\t', ps,'\\t','PrecisionScore')\n",
    "    print(model, '\\t', rs,'\\t','RecallScore')"
   ]
  },
  {
   "cell_type": "code",
   "execution_count": 17,
   "metadata": {},
   "outputs": [
    {
     "name": "stdout",
     "output_type": "stream",
     "text": [
      "MLPClassifier() \t f1\n"
     ]
    }
   ],
   "source": [
    "#выбираем лучшую модель\n",
    "i_max = f1s.index(max(f1s))\n",
    "best_c_model = models[i_max]\n",
    "print(best_c_model,'\\t','f1')"
   ]
  },
  {
   "cell_type": "code",
   "execution_count": 18,
   "metadata": {},
   "outputs": [
    {
     "name": "stdout",
     "output_type": "stream",
     "text": [
      "MLPClassifier() \t AccuracyScore\n"
     ]
    }
   ],
   "source": [
    "i_max = AccuracyScore.index(max(AccuracyScore))\n",
    "best_c_model = models[i_max]\n",
    "print(best_c_model,'\\t','AccuracyScore')"
   ]
  },
  {
   "cell_type": "code",
   "execution_count": 19,
   "metadata": {},
   "outputs": [
    {
     "name": "stdout",
     "output_type": "stream",
     "text": [
      "SVC() \t PrecisionScore\n"
     ]
    }
   ],
   "source": [
    "i_max = PrecisionScore.index(max(PrecisionScore))\n",
    "best_c_model = models[i_max]\n",
    "print(best_c_model,'\\t','PrecisionScore')"
   ]
  },
  {
   "cell_type": "code",
   "execution_count": 20,
   "metadata": {},
   "outputs": [
    {
     "name": "stdout",
     "output_type": "stream",
     "text": [
      "MLPClassifier() \t RecallScore\n"
     ]
    }
   ],
   "source": [
    "i_max = RecallScore.index(max(RecallScore))\n",
    "best_c_model = models[i_max]\n",
    "print(best_c_model,'\\t','RecallScore')"
   ]
  },
  {
   "cell_type": "code",
   "execution_count": null,
   "metadata": {},
   "outputs": [],
   "source": []
  }
 ],
 "metadata": {
  "kernelspec": {
   "display_name": "Python 3 (ipykernel)",
   "language": "python",
   "name": "python3"
  },
  "language_info": {
   "codemirror_mode": {
    "name": "ipython",
    "version": 3
   },
   "file_extension": ".py",
   "mimetype": "text/x-python",
   "name": "python",
   "nbconvert_exporter": "python",
   "pygments_lexer": "ipython3",
   "version": "3.7.12"
  }
 },
 "nbformat": 4,
 "nbformat_minor": 4
}
